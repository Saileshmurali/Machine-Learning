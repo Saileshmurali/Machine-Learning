{
  "nbformat": 4,
  "nbformat_minor": 0,
  "metadata": {
    "colab": {
      "name": "Digit 3- SVM and Random Forest",
      "provenance": [],
      "collapsed_sections": [],
      "authorship_tag": "ABX9TyOI0WCk1QLO7a1a5OD4OsHr",
      "include_colab_link": true
    },
    "kernelspec": {
      "name": "python3",
      "display_name": "Python 3"
    },
    "language_info": {
      "name": "python"
    }
  },
  "cells": [
    {
      "cell_type": "markdown",
      "metadata": {
        "id": "view-in-github",
        "colab_type": "text"
      },
      "source": [
        "<a href=\"https://colab.research.google.com/github/Saileshmurali/Machine-Learning/blob/main/Handwritten-Digit-CNN/Digit_3_SVM_and_Random_Forest.ipynb\" target=\"_parent\"><img src=\"https://colab.research.google.com/assets/colab-badge.svg\" alt=\"Open In Colab\"/></a>"
      ]
    },
    {
      "cell_type": "code",
      "metadata": {
        "id": "Mjcfs3Tok8Ci"
      },
      "source": [
        "import pandas as pd\n",
        "import numpy as np\n",
        "import matplotlib.pyplot as plt\n",
        "%matplotlib inline\n",
        "import seaborn as sns\n",
        "import missingno\n",
        "from sklearn.neural_network import MLPClassifier\n",
        "from sklearn import svm\n",
        "from sklearn.ensemble import RandomForestClassifier\n",
        "from sklearn.model_selection import train_test_split"
      ],
      "execution_count": null,
      "outputs": []
    },
    {
      "cell_type": "code",
      "metadata": {
        "id": "emmcOZ41lM4k"
      },
      "source": [
        "df=pd.read_csv(\"train.csv\")"
      ],
      "execution_count": null,
      "outputs": []
    },
    {
      "cell_type": "code",
      "metadata": {
        "id": "_dpys4zIlUGL",
        "colab": {
          "base_uri": "https://localhost:8080/",
          "height": 282
        },
        "outputId": "a0b9b2bb-712f-40e8-a5f2-2d51606c7cda"
      },
      "source": [
        "label = df.iloc[7, 1:].values\n",
        "label=label.reshape(28,28)\n",
        "plt.imshow(label, cmap = 'gray')"
      ],
      "execution_count": null,
      "outputs": [
        {
          "output_type": "execute_result",
          "data": {
            "text/plain": [
              "<matplotlib.image.AxesImage at 0x7f177fa50690>"
            ]
          },
          "metadata": {},
          "execution_count": 12
        },
        {
          "output_type": "display_data",
          "data": {
            "image/png": "[encoded data removed]",
            "text/plain": [
              "<Figure size 432x288 with 1 Axes>"
            ]
          },
          "metadata": {
            "needs_background": "light"
          }
        }
      ]
    },
    {
      "cell_type": "code",
      "metadata": {
        "id": "mxZ6GHIxla4E",
        "colab": {
          "base_uri": "https://localhost:8080/"
        },
        "outputId": "00200067-4c5a-4297-9167-7bd69ba7227f"
      },
      "source": [
        "X = df.iloc[:, 1:].values\n",
        "Y = df.iloc[:, 0].values\n",
        "X_train, X_test, Y_train, Y_test = train_test_split(X, Y, train_size = 0.7, random_state = 5)\n",
        "clf = RandomForestClassifier(n_estimators=200,max_samples=0.5)\n",
        "clf.fit(X_train, Y_train)\n",
        "print(clf.score(X_test, Y_test))"
      ],
      "execution_count": null,
      "outputs": [
        {
          "output_type": "stream",
          "name": "stdout",
          "text": [
            "0.9570668994524244\n"
          ]
        }
      ]
    },
    {
      "cell_type": "code",
      "metadata": {
        "id": "ze5sqy7rlhll"
      },
      "source": [
        "clf2 = svm.SVC(decision_function_shape='ovo')"
      ],
      "execution_count": null,
      "outputs": []
    },
    {
      "cell_type": "code",
      "metadata": {
        "id": "YNrAG6nGloT2",
        "colab": {
          "base_uri": "https://localhost:8080/"
        },
        "outputId": "12446f7d-92ad-44f4-9024-68a5e7fc8336"
      },
      "source": [
        "clf2.fit(X_train, Y_train)"
      ],
      "execution_count": null,
      "outputs": [
        {
          "output_type": "execute_result",
          "data": {
            "text/plain": [
              "SVC(decision_function_shape='ovo')"
            ]
          },
          "metadata": {},
          "execution_count": 7
        }
      ]
    },
    {
      "cell_type": "code",
      "metadata": {
        "colab": {
          "base_uri": "https://localhost:8080/"
        },
        "id": "zZHVf6xxl7k3",
        "outputId": "cfb96975-4849-4269-bc0a-4682d8a56105"
      },
      "source": [
        "clf2.score(X_test, Y_test)"
      ],
      "execution_count": null,
      "outputs": [
        {
          "output_type": "execute_result",
          "data": {
            "text/plain": [
              "0.9741290373779858"
            ]
          },
          "metadata": {},
          "execution_count": 8
        }
      ]
    }
  ]
}